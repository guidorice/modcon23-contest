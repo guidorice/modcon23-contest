{
 "cells": [
  {
   "cell_type": "code",
   "execution_count": 1,
   "metadata": {},
   "outputs": [],
   "source": [
    "from math import inf\n",
    "import numpy as np\n",
    "\n",
    "def envelope(x_coords: list[float], y_coords: list[float]) -> list[float]:\n",
    "    \"\"\"\n",
    "    Calculate envelope with iterative, plain python code.\n",
    "    \"\"\"\n",
    "    assert len(x_coords) == len(y_coords)\n",
    "\n",
    "    result: list[float] = [inf, inf, -inf, -inf]\n",
    "\n",
    "    for i in range(len(x_coords)):\n",
    "        x = x_coords[i]\n",
    "        y = y_coords[i]\n",
    "\n",
    "        if x < result[0]:\n",
    "            result[0] = x\n",
    "        if y < result[1]:\n",
    "            result[1] = y\n",
    "        \n",
    "        if x > result[2]:\n",
    "            result[2] = x\n",
    "        if y > result[3]:\n",
    "            result[3] = y\n",
    "\n",
    "    return result"
   ]
  },
  {
   "cell_type": "code",
   "execution_count": 2,
   "metadata": {},
   "outputs": [],
   "source": [
    "multipoint_10_2 = np.array(np.random.rand(2, 10 ** 2), dtype=np.float32)\n",
    "multipoint_10_3 = np.array(np.random.rand(2, 10 ** 3), dtype=np.float32)\n",
    "multipoint_10_4 = np.array(np.random.rand(2, 10 ** 4), dtype=np.float32)\n",
    "multipoint_10_5= np.array(np.random.rand(2, 10 ** 5), dtype=np.float32)\n",
    "multipoint_10_6 = np.array(np.random.rand(2, 10 ** 6), dtype=np.float32)\n",
    "multipoint_10_7 = np.array(np.random.rand(2, 10 ** 7), dtype=np.float32)"
   ]
  },
  {
   "cell_type": "code",
   "execution_count": 3,
   "metadata": {},
   "outputs": [
    {
     "name": "stdout",
     "output_type": "stream",
     "text": [
      "13.4 µs ± 107 ns per loop (mean ± std. dev. of 7 runs, 100,000 loops each)\n"
     ]
    }
   ],
   "source": [
    "%%timeit\n",
    "\n",
    "envelope(x_coords=list(multipoint_10_2[0]), y_coords=list(multipoint_10_2[1]))"
   ]
  },
  {
   "cell_type": "code",
   "execution_count": 4,
   "metadata": {},
   "outputs": [
    {
     "name": "stdout",
     "output_type": "stream",
     "text": [
      "102 µs ± 84.8 ns per loop (mean ± std. dev. of 7 runs, 10,000 loops each)\n"
     ]
    }
   ],
   "source": [
    "%%timeit\n",
    "\n",
    "envelope(x_coords=list(multipoint_10_3[0]), y_coords=list(multipoint_10_3[1]))"
   ]
  },
  {
   "cell_type": "code",
   "execution_count": 5,
   "metadata": {},
   "outputs": [
    {
     "name": "stdout",
     "output_type": "stream",
     "text": [
      "996 µs ± 2.09 µs per loop (mean ± std. dev. of 7 runs, 1,000 loops each)\n"
     ]
    }
   ],
   "source": [
    "%%timeit\n",
    "\n",
    "envelope(x_coords=list(multipoint_10_4[0]), y_coords=list(multipoint_10_4[1]))"
   ]
  },
  {
   "cell_type": "code",
   "execution_count": 6,
   "metadata": {},
   "outputs": [
    {
     "name": "stdout",
     "output_type": "stream",
     "text": [
      "10.3 ms ± 13.2 µs per loop (mean ± std. dev. of 7 runs, 100 loops each)\n"
     ]
    }
   ],
   "source": [
    "%%timeit\n",
    "\n",
    "envelope(x_coords=list(multipoint_10_5[0]), y_coords=list(multipoint_10_5[1]))"
   ]
  },
  {
   "cell_type": "code",
   "execution_count": 7,
   "metadata": {},
   "outputs": [
    {
     "name": "stdout",
     "output_type": "stream",
     "text": [
      "106 ms ± 117 µs per loop (mean ± std. dev. of 7 runs, 10 loops each)\n"
     ]
    }
   ],
   "source": [
    "%%timeit\n",
    "\n",
    "envelope(x_coords=list(multipoint_10_6[0]), y_coords=list(multipoint_10_6[1]))"
   ]
  },
  {
   "cell_type": "code",
   "execution_count": 8,
   "metadata": {},
   "outputs": [
    {
     "name": "stdout",
     "output_type": "stream",
     "text": [
      "1.1 s ± 55 ms per loop (mean ± std. dev. of 7 runs, 1 loop each)\n"
     ]
    }
   ],
   "source": [
    "%%timeit\n",
    "\n",
    "envelope(x_coords=list(multipoint_10_7[0]), y_coords=list(multipoint_10_7[1]))"
   ]
  }
 ],
 "metadata": {
  "kernelspec": {
   "display_name": "Python 3",
   "language": "python",
   "name": "python3"
  },
  "language_info": {
   "codemirror_mode": {
    "name": "ipython",
    "version": 3
   },
   "file_extension": ".py",
   "mimetype": "text/x-python",
   "name": "python",
   "nbconvert_exporter": "python",
   "pygments_lexer": "ipython3",
   "version": "3.11.5"
  }
 },
 "nbformat": 4,
 "nbformat_minor": 2
}
